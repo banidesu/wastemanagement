{
 "cells": [
  {
   "cell_type": "code",
   "execution_count": 1,
   "metadata": {},
   "outputs": [],
   "source": [
    "import numpy as np\n",
    "import matplotlib.pyplot as plt\n",
    "import seaborn as sns\n",
    "import tensorflow as tf\n",
    "\n",
    "from tensorflow.keras import layers, models\n",
    "from tensorflow.keras.models import Sequential\n",
    "from tensorflow.keras.preprocessing.image import ImageDataGenerator\n",
    "from tensorflow.keras.callbacks import EarlyStopping\n",
    "from tensorflow.keras import regularizers\n",
    "\n",
    "import requests\n",
    "import zipfile\n",
    "import os\n",
    "import io\n",
    "import shutil\n",
    "from shutil import copyfile\n",
    "import random"
   ]
  },
  {
   "cell_type": "code",
   "execution_count": 2,
   "metadata": {},
   "outputs": [],
   "source": [
    "data_dir = 'backup_data/dataset-resized'\n",
    "\n",
    "categories = [\"BATTERY\", \"BIOLOGICAL\", \"CLOTHES\",\"CARDBOARD\", \"GLASS\", \"METAL\", \"PAPER\", \"PLASTIC\", \"NON_RECYCLE\", \"SHOES\"]"
   ]
  },
  {
   "cell_type": "code",
   "execution_count": 3,
   "metadata": {},
   "outputs": [
    {
     "name": "stdout",
     "output_type": "stream",
     "text": [
      "There are 945 images of BATTERY\n",
      "There are 985 images of BIOLOGICAL\n",
      "There are 1865 images of CLOTHES\n",
      "There are 1294 images of CARDBOARD\n",
      "There are 1905 images of GLASS\n",
      "There are 1179 images of METAL\n",
      "There are 1644 images of PAPER\n",
      "There are 1347 images of PLASTIC\n",
      "There are 834 images of NON_RECYCLE\n",
      "There are 1977 images of SHOES\n"
     ]
    }
   ],
   "source": [
    "for category in categories:\n",
    "    data_category = os.path.join(data_dir, category)\n",
    "    print(f\"There are {len(os.listdir(data_category))} images of {category}\")"
   ]
  },
  {
   "cell_type": "code",
   "execution_count": 4,
   "metadata": {},
   "outputs": [],
   "source": [
    "# Create tmp dir\n",
    "root_dir = './dataset/tmp'\n",
    "\n",
    "# Empty directory to prevent FileExistsError is the function is run several times\n",
    "if os.path.exists(root_dir):\n",
    "  shutil.rmtree(root_dir)\n",
    "\n",
    "# CREATE FUNCTION: train_test_dirs \n",
    "def create_train_test_dirs(root_path):\n",
    "    pass\n",
    "    train_dir = os.path.join(root_path, 'train')\n",
    "    test_dir = os.path.join(root_path, 'test')\n",
    "\n",
    "    os.makedirs(train_dir)\n",
    "    os.makedirs(test_dir)\n",
    "\n",
    "    # Train subdir\n",
    "    for category in categories:\n",
    "        train_category_dir = os.path.join(train_dir, category)\n",
    "        test_category_dir = os.path.join(test_dir, category)\n",
    "        \n",
    "        if not os.path.exists(train_category_dir):\n",
    "            os.makedirs(train_category_dir)\n",
    "        \n",
    "        if not os.path.exists(test_category_dir):\n",
    "            os.makedirs(test_category_dir)"
   ]
  },
  {
   "cell_type": "code",
   "execution_count": 6,
   "metadata": {},
   "outputs": [
    {
     "name": "stdout",
     "output_type": "stream",
     "text": [
      "File Sudah Ada\n"
     ]
    }
   ],
   "source": [
    "try:\n",
    "    create_train_test_dirs(root_path=root_dir)\n",
    "except FileExistsError:\n",
    "    print('File Sudah Ada')"
   ]
  },
  {
   "cell_type": "code",
   "execution_count": 7,
   "metadata": {},
   "outputs": [
    {
     "name": "stdout",
     "output_type": "stream",
     "text": [
      "./dataset/tmp\\test\n",
      "./dataset/tmp\\train\n",
      "./dataset/tmp\\test\\BATTERY\n",
      "./dataset/tmp\\test\\BIOLOGICAL\n",
      "./dataset/tmp\\test\\CARDBOARD\n",
      "./dataset/tmp\\test\\CLOTHES\n",
      "./dataset/tmp\\test\\GLASS\n",
      "./dataset/tmp\\test\\METAL\n",
      "./dataset/tmp\\test\\NON_RECYCLE\n",
      "./dataset/tmp\\test\\PAPER\n",
      "./dataset/tmp\\test\\PLASTIC\n",
      "./dataset/tmp\\test\\SHOES\n",
      "./dataset/tmp\\train\\BATTERY\n",
      "./dataset/tmp\\train\\BIOLOGICAL\n",
      "./dataset/tmp\\train\\CARDBOARD\n",
      "./dataset/tmp\\train\\CLOTHES\n",
      "./dataset/tmp\\train\\GLASS\n",
      "./dataset/tmp\\train\\METAL\n",
      "./dataset/tmp\\train\\NON_RECYCLE\n",
      "./dataset/tmp\\train\\PAPER\n",
      "./dataset/tmp\\train\\PLASTIC\n",
      "./dataset/tmp\\train\\SHOES\n"
     ]
    }
   ],
   "source": [
    "# Cek dir\n",
    "for rootdir, dirs, files in os.walk(root_dir):\n",
    "    for subdir in dirs:\n",
    "        print(os.path.join(rootdir, subdir))"
   ]
  },
  {
   "cell_type": "code",
   "execution_count": 8,
   "metadata": {},
   "outputs": [],
   "source": [
    "# CREATE FUNCTION: split_data\n",
    "def split_data(DATA_DIR, TRAIN_DIR, TEST_DIR, SPLIT_SIZE):\n",
    "    pass\n",
    "    data_source = os.listdir(DATA_DIR)\n",
    "    \n",
    "    random.sample(data_source, len(data_source))\n",
    "\n",
    "    split_size = int(len(data_source) * SPLIT_SIZE)\n",
    "\n",
    "    # split\n",
    "    data_train = data_source[:split_size]\n",
    "    data_test = data_source[split_size:]\n",
    "\n",
    "    def check_length(file):\n",
    "        return os.path.getsize(os.path.join(DATA_DIR, file)) > 0\n",
    "    \n",
    "    for file in data_train:\n",
    "        if check_length(file):\n",
    "            copyfile(os.path.join(DATA_DIR, file), os.path.join(TRAIN_DIR, file))\n",
    "        else:\n",
    "            print(f\"{file} is zero length, so ingnoring.\")\n",
    "\n",
    "    for file in data_test:\n",
    "        if check_length(file):\n",
    "            copyfile(os.path.join(DATA_DIR, file), os.path.join(TEST_DIR, file))\n",
    "        else:\n",
    "            print(f\"{file} is zero length, so ingnoring.\")"
   ]
  },
  {
   "cell_type": "code",
   "execution_count": 9,
   "metadata": {},
   "outputs": [],
   "source": [
    "# Define DATA_DIR\n",
    "BATTERY_DIR = './backup_data/dataset-resized/battery'\n",
    "BIOLOGICAL_DIR = './backup_data/dataset-resized/biological'\n",
    "CARDBOARD_DIR = './backup_data/dataset-resized/cardboard'\n",
    "CLOTHES_DIR = './backup_data/dataset-resized/clothes'\n",
    "GLASS_DIR = './backup_data/dataset-resized/glass'\n",
    "METAL_DIR = './backup_data/dataset-resized/metal'\n",
    "PAPER_DIR = './backup_data/dataset-resized/paper'\n",
    "PLASTIC_DIR = './backup_data/dataset-resized/plastic'\n",
    "NON_RECYCLE_DIR = './backup_data/dataset-resized/non_recycle'\n",
    "SHOES_DIR = './backup_data/dataset-resized/shoes'"
   ]
  },
  {
   "cell_type": "code",
   "execution_count": 10,
   "metadata": {},
   "outputs": [],
   "source": [
    "# Define TRAIN_DIR\n",
    "TRAIN_DIR = './dataset/tmp/train'\n",
    "\n",
    "TRAIN_BATTERY_DIR = os.path.join(TRAIN_DIR, \"battery/\")\n",
    "TRAIN_BIOLOGICAL_DIR = os.path.join(TRAIN_DIR, \"biological/\")\n",
    "TRAIN_CARDBOARD_DIR = os.path.join(TRAIN_DIR, \"cardboard/\")\n",
    "TRAIN_CLOTHES_DIR = os.path.join(TRAIN_DIR, \"clothes/\")\n",
    "TRAIN_GLASS_DIR = os.path.join(TRAIN_DIR, \"glass/\")\n",
    "TRAIN_METAL_DIR = os.path.join(TRAIN_DIR, \"metal/\")\n",
    "TRAIN_PAPER_DIR = os.path.join(TRAIN_DIR, \"paper/\")\n",
    "TRAIN_PLASTIC_DIR = os.path.join(TRAIN_DIR, \"plastic/\")\n",
    "TRAIN_NON_RECYCLE_DIR = os.path.join(TRAIN_DIR, \"non_recycle/\")\n",
    "TRAIN_SHOES_DIR = os.path.join(TRAIN_DIR, \"shoes/\")"
   ]
  },
  {
   "cell_type": "code",
   "execution_count": 11,
   "metadata": {},
   "outputs": [],
   "source": [
    "# Define TEST_DIR\n",
    "TEST_DIR = './dataset/tmp/test'\n",
    "\n",
    "TEST_BATTERY_DIR = os.path.join(TEST_DIR, \"battery/\")\n",
    "TEST_BIOLOGICAL_DIR = os.path.join(TEST_DIR, \"biological/\")\n",
    "TEST_CARDBOARD_DIR = os.path.join(TEST_DIR, \"cardboard/\")\n",
    "TEST_CLOTHES_DIR = os.path.join(TEST_DIR, \"clothes/\")\n",
    "TEST_GLASS_DIR = os.path.join(TEST_DIR, \"glass/\")\n",
    "TEST_METAL_DIR = os.path.join(TEST_DIR, \"metal/\")\n",
    "TEST_PAPER_DIR = os.path.join(TEST_DIR, \"paper/\")\n",
    "TEST_PLASTIC_DIR = os.path.join(TEST_DIR, \"plastic/\")\n",
    "TEST_NON_RECYCLE_DIR = os.path.join(TEST_DIR, \"non_recycle/\")\n",
    "TEST_SHOES_DIR = os.path.join(TEST_DIR, \"shoes/\")"
   ]
  },
  {
   "cell_type": "code",
   "execution_count": 12,
   "metadata": {},
   "outputs": [],
   "source": [
    "# Empty directories in case you run the cell multiple times\n",
    "# TRAIN\n",
    "if len(os.listdir(TRAIN_CARDBOARD_DIR)) > 0:\n",
    "  for file in os.scandir(TRAIN_CARDBOARD_DIR):\n",
    "    os.remove(file.path)\n",
    "if len(os.listdir(TRAIN_GLASS_DIR)) > 0:\n",
    "  for file in os.scandir(TRAIN_GLASS_DIR):\n",
    "    os.remove(file.path)\n",
    "if len(os.listdir(TRAIN_METAL_DIR)) > 0:\n",
    "  for file in os.scandir(TRAIN_METAL_DIR):\n",
    "    os.remove(file.path)\n",
    "if len(os.listdir(TRAIN_PAPER_DIR)) > 0:\n",
    "  for file in os.scandir(TRAIN_PAPER_DIR):\n",
    "    os.remove(file.path)\n",
    "if len(os.listdir(TRAIN_PLASTIC_DIR)) > 0:\n",
    "  for file in os.scandir(TRAIN_PLASTIC_DIR):\n",
    "    os.remove(file.path)\n",
    "if len(os.listdir(TRAIN_NON_RECYCLE_DIR)) > 0:\n",
    "  for file in os.scandir(TRAIN_NON_RECYCLE_DIR):\n",
    "    os.remove(file.path)\n",
    "if len(os.listdir(TRAIN_BATTERY_DIR)) > 0:\n",
    "  for file in os.scandir(TRAIN_BATTERY_DIR):\n",
    "    os.remove(file.path)\n",
    "if len(os.listdir(TRAIN_BIOLOGICAL_DIR)) > 0:\n",
    "  for file in os.scandir(TRAIN_BIOLOGICAL_DIR):\n",
    "    os.remove(file.path) \n",
    "if len(os.listdir(TRAIN_SHOES_DIR)) > 0:\n",
    "  for file in os.scandir(TRAIN_SHOES_DIR):\n",
    "    os.remove(file.path)\n",
    "\n",
    "\n",
    "# TEST\n",
    "if len(os.listdir(TEST_CARDBOARD_DIR)) > 0:\n",
    "  for file in os.scandir(TEST_CARDBOARD_DIR):\n",
    "    os.remove(file.path)\n",
    "if len(os.listdir(TEST_GLASS_DIR)) > 0:\n",
    "  for file in os.scandir(TEST_GLASS_DIR):\n",
    "    os.remove(file.path)\n",
    "if len(os.listdir(TEST_METAL_DIR)) > 0:\n",
    "  for file in os.scandir(TEST_METAL_DIR):\n",
    "    os.remove(file.path)\n",
    "if len(os.listdir(TEST_PAPER_DIR)) > 0:\n",
    "  for file in os.scandir(TEST_PAPER_DIR):\n",
    "    os.remove(file.path)\n",
    "if len(os.listdir(TEST_PLASTIC_DIR)) > 0:\n",
    "  for file in os.scandir(TEST_PLASTIC_DIR):\n",
    "    os.remove(file.path)\n",
    "if len(os.listdir(TEST_NON_RECYCLE_DIR)) > 0:\n",
    "  for file in os.scandir(TEST_NON_RECYCLE_DIR):\n",
    "    os.remove(file.path)\n",
    "if len(os.listdir(TEST_BATTERY_DIR)) > 0:\n",
    "  for file in os.scandir(TEST_BATTERY_DIR):\n",
    "    os.remove(file.path)\n",
    "if len(os.listdir(TEST_BIOLOGICAL_DIR)) > 0:\n",
    "  for file in os.scandir(TEST_BIOLOGICAL_DIR):\n",
    "    os.remove(file.path)\n",
    "if len(os.listdir(TEST_SHOES_DIR)) > 0:\n",
    "  for file in os.scandir(TEST_SHOES_DIR):\n",
    "    os.remove(file.path)"
   ]
  },
  {
   "cell_type": "code",
   "execution_count": 13,
   "metadata": {},
   "outputs": [],
   "source": [
    "if len(os.listdir(TRAIN_CLOTHES_DIR)) > 0:\n",
    "  for file in os.scandir(TRAIN_CLOTHES_DIR):\n",
    "    os.remove(file.path)\n",
    "if len(os.listdir(TEST_CLOTHES_DIR)) > 0:\n",
    "  for file in os.scandir(TEST_CLOTHES_DIR):\n",
    "    os.remove(file.path)"
   ]
  },
  {
   "cell_type": "code",
   "execution_count": 14,
   "metadata": {},
   "outputs": [],
   "source": [
    "# DO: Data Split \n",
    "SPLIT_SIZE = .8\n",
    "\n",
    "directories = [\n",
    "    (BATTERY_DIR, TRAIN_BATTERY_DIR, TEST_BATTERY_DIR),\n",
    "    (BIOLOGICAL_DIR, TRAIN_BIOLOGICAL_DIR, TEST_BIOLOGICAL_DIR),\n",
    "    (CLOTHES_DIR, TRAIN_CLOTHES_DIR, TEST_CLOTHES_DIR),\n",
    "    (CARDBOARD_DIR, TRAIN_CARDBOARD_DIR, TEST_CARDBOARD_DIR),\n",
    "    (GLASS_DIR, TRAIN_GLASS_DIR, TEST_GLASS_DIR),\n",
    "    (METAL_DIR, TRAIN_METAL_DIR, TEST_METAL_DIR),\n",
    "    (PAPER_DIR, TRAIN_PAPER_DIR, TEST_PAPER_DIR),\n",
    "    (PLASTIC_DIR, TRAIN_PLASTIC_DIR, TEST_PLASTIC_DIR),\n",
    "    (NON_RECYCLE_DIR, TRAIN_NON_RECYCLE_DIR, TEST_NON_RECYCLE_DIR),\n",
    "    (SHOES_DIR, TRAIN_SHOES_DIR, TEST_SHOES_DIR)\n",
    "]\n",
    "\n",
    "for source_dir, train_dir, test_dir in directories:\n",
    "    split_data(source_dir, train_dir, test_dir, SPLIT_SIZE)"
   ]
  },
  {
   "cell_type": "code",
   "execution_count": 15,
   "metadata": {},
   "outputs": [
    {
     "name": "stdout",
     "output_type": "stream",
     "text": [
      "There are 1581 images\n",
      "There are 788 images\n",
      "There are 756 images\n",
      "There are 1492 images\n",
      "There are 1035 images\n",
      "There are 1524 images\n",
      "There are 943 images\n",
      "There are 1315 images\n",
      "There are 1077 images\n",
      "There are 667 images\n"
     ]
    }
   ],
   "source": [
    "# Training Data\n",
    "train_directories = [TRAIN_SHOES_DIR,TRAIN_BIOLOGICAL_DIR,TRAIN_BATTERY_DIR,TRAIN_CLOTHES_DIR,TRAIN_CARDBOARD_DIR, TRAIN_GLASS_DIR, TRAIN_METAL_DIR, TRAIN_PAPER_DIR, TRAIN_PLASTIC_DIR, TRAIN_NON_RECYCLE_DIR]\n",
    "\n",
    "for train_dir in train_directories:\n",
    "    print(f\"There are {len(os.listdir(train_dir))} images\")"
   ]
  },
  {
   "cell_type": "code",
   "execution_count": 16,
   "metadata": {},
   "outputs": [
    {
     "name": "stdout",
     "output_type": "stream",
     "text": [
      "There are 396 images\n",
      "There are 197 images\n",
      "There are 189 images\n",
      "There are 373 images\n",
      "There are 259 images\n",
      "There are 381 images\n",
      "There are 236 images\n",
      "There are 329 images\n",
      "There are 270 images\n",
      "There are 167 images\n"
     ]
    }
   ],
   "source": [
    "# Testing Data\n",
    "test_directories = [TEST_SHOES_DIR,TEST_BIOLOGICAL_DIR,TEST_BATTERY_DIR,TEST_CLOTHES_DIR,TEST_CARDBOARD_DIR, TEST_GLASS_DIR, TEST_METAL_DIR, TEST_PAPER_DIR, TEST_PLASTIC_DIR, TEST_NON_RECYCLE_DIR]\n",
    "\n",
    "for test_dir in test_directories:\n",
    "    print(f\"There are {len(os.listdir(test_dir))} images\")"
   ]
  },
  {
   "cell_type": "code",
   "execution_count": 17,
   "metadata": {},
   "outputs": [],
   "source": [
    "# CREATE FUNCTION: train_test_generators\n",
    "def train_test_generators(TRAIN_DIR, TEST_DIR):\n",
    "    # Train\n",
    "    train_datagen = ImageDataGenerator(rescale=1/255,\n",
    "                                       rotation_range=40,\n",
    "                                       width_shift_range=0.1,\n",
    "                                       height_shift_range=0.1,\n",
    "                                       shear_range=0.1,\n",
    "                                       horizontal_flip=True,\n",
    "                                       fill_mode='nearest')\n",
    "    \n",
    "    train_generator = train_datagen.flow_from_directory(directory=TRAIN_DIR,\n",
    "                                                        batch_size=20,\n",
    "                                                        class_mode='categorical',\n",
    "                                                        target_size=(256,256))\n",
    "    \n",
    "    # Test\n",
    "    test_datagen = ImageDataGenerator(rescale=1/255)\n",
    "\n",
    "    test_generator = test_datagen.flow_from_directory(directory=TEST_DIR,\n",
    "                                                        batch_size=20,\n",
    "                                                        class_mode='categorical',\n",
    "                                                        target_size=(256,256))\n",
    "    return train_generator, test_generator"
   ]
  },
  {
   "cell_type": "code",
   "execution_count": 18,
   "metadata": {},
   "outputs": [
    {
     "name": "stdout",
     "output_type": "stream",
     "text": [
      "Found 11178 images belonging to 10 classes.\n",
      "Found 2797 images belonging to 10 classes.\n"
     ]
    }
   ],
   "source": [
    "train_generator, test_generator = train_test_generators(TRAIN_DIR, TEST_DIR)"
   ]
  },
  {
   "cell_type": "code",
   "execution_count": 19,
   "metadata": {},
   "outputs": [],
   "source": [
    "# CREATE FUNCTION: create_model\n",
    "def create_model():\n",
    "    model = tf.keras.models.Sequential([\n",
    "        tf.keras.layers.Conv2D(32, (3,3), activation='relu', input_shape= (256,256,3)),\n",
    "        tf.keras.layers.MaxPooling2D(2,2),\n",
    "        tf.keras.layers.Conv2D(64, (3,3), activation='relu'),\n",
    "        tf.keras.layers.MaxPooling2D(2,2),\n",
    "        tf.keras.layers.Conv2D(128, (3,3), activation='relu'),\n",
    "        tf.keras.layers.MaxPooling2D(2,2),\n",
    "        tf.keras.layers.Flatten(),\n",
    "        tf.keras.layers.Dense(512, activation='relu'),\n",
    "        tf.keras.layers.Dropout(0.5),\n",
    "        tf.keras.layers.Dense(10, activation='softmax')\n",
    "    ])\n",
    "\n",
    "    optimizer = tf.keras.optimizers.Adam()\n",
    "\n",
    "    model.compile(optimizer=optimizer,\n",
    "                  loss='categorical_crossentropy',\n",
    "                  metrics=['accuracy'])\n",
    "    \n",
    "    return model"
   ]
  },
  {
   "cell_type": "code",
   "execution_count": 20,
   "metadata": {},
   "outputs": [
    {
     "name": "stderr",
     "output_type": "stream",
     "text": [
      "c:\\Users\\Lenovo\\AppData\\Local\\Programs\\Python\\Python311\\Lib\\site-packages\\keras\\src\\layers\\convolutional\\base_conv.py:99: UserWarning: Do not pass an `input_shape`/`input_dim` argument to a layer. When using Sequential models, prefer using an `Input(shape)` object as the first layer in the model instead.\n",
      "  super().__init__(\n"
     ]
    },
    {
     "name": "stdout",
     "output_type": "stream",
     "text": [
      "Epoch 1/20\n"
     ]
    },
    {
     "name": "stderr",
     "output_type": "stream",
     "text": [
      "c:\\Users\\Lenovo\\AppData\\Local\\Programs\\Python\\Python311\\Lib\\site-packages\\keras\\src\\trainers\\data_adapters\\py_dataset_adapter.py:120: UserWarning: Your `PyDataset` class should call `super().__init__(**kwargs)` in its constructor. `**kwargs` can include `workers`, `use_multiprocessing`, `max_queue_size`. Do not pass these arguments to `fit()`, as they will be ignored.\n",
      "  self._warn_if_super_not_called()\n"
     ]
    },
    {
     "name": "stdout",
     "output_type": "stream",
     "text": [
      "\u001b[1m140/559\u001b[0m \u001b[32m━━━━━\u001b[0m\u001b[37m━━━━━━━━━━━━━━━\u001b[0m \u001b[1m8:54\u001b[0m 1s/step - accuracy: 0.1947 - loss: 3.0571"
     ]
    },
    {
     "ename": "KeyboardInterrupt",
     "evalue": "",
     "output_type": "error",
     "traceback": [
      "\u001b[1;31m---------------------------------------------------------------------------\u001b[0m",
      "\u001b[1;31mKeyboardInterrupt\u001b[0m                         Traceback (most recent call last)",
      "Cell \u001b[1;32mIn[20], line 5\u001b[0m\n\u001b[0;32m      1\u001b[0m model \u001b[38;5;241m=\u001b[39m create_model()\n\u001b[0;32m      3\u001b[0m early_stopping \u001b[38;5;241m=\u001b[39m EarlyStopping(monitor\u001b[38;5;241m=\u001b[39m\u001b[38;5;124m'\u001b[39m\u001b[38;5;124mval_loss\u001b[39m\u001b[38;5;124m'\u001b[39m, patience\u001b[38;5;241m=\u001b[39m\u001b[38;5;241m3\u001b[39m)\n\u001b[1;32m----> 5\u001b[0m history \u001b[38;5;241m=\u001b[39m \u001b[43mmodel\u001b[49m\u001b[38;5;241;43m.\u001b[39;49m\u001b[43mfit\u001b[49m\u001b[43m(\u001b[49m\u001b[43mtrain_generator\u001b[49m\u001b[43m,\u001b[49m\n\u001b[0;32m      6\u001b[0m \u001b[43m                    \u001b[49m\u001b[43mepochs\u001b[49m\u001b[38;5;241;43m=\u001b[39;49m\u001b[38;5;241;43m20\u001b[39;49m\u001b[43m,\u001b[49m\n\u001b[0;32m      7\u001b[0m \u001b[43m                    \u001b[49m\u001b[43mverbose\u001b[49m\u001b[38;5;241;43m=\u001b[39;49m\u001b[38;5;241;43m1\u001b[39;49m\u001b[43m,\u001b[49m\n\u001b[0;32m      8\u001b[0m \u001b[43m                    \u001b[49m\u001b[43mvalidation_data\u001b[49m\u001b[38;5;241;43m=\u001b[39;49m\u001b[43mtest_generator\u001b[49m\u001b[43m,\u001b[49m\u001b[43m \u001b[49m\u001b[43mcallbacks\u001b[49m\u001b[38;5;241;43m=\u001b[39;49m\u001b[43m[\u001b[49m\u001b[43mearly_stopping\u001b[49m\u001b[43m]\u001b[49m\u001b[43m)\u001b[49m\n",
      "File \u001b[1;32mc:\\Users\\Lenovo\\AppData\\Local\\Programs\\Python\\Python311\\Lib\\site-packages\\keras\\src\\utils\\traceback_utils.py:117\u001b[0m, in \u001b[0;36mfilter_traceback.<locals>.error_handler\u001b[1;34m(*args, **kwargs)\u001b[0m\n\u001b[0;32m    115\u001b[0m filtered_tb \u001b[38;5;241m=\u001b[39m \u001b[38;5;28;01mNone\u001b[39;00m\n\u001b[0;32m    116\u001b[0m \u001b[38;5;28;01mtry\u001b[39;00m:\n\u001b[1;32m--> 117\u001b[0m     \u001b[38;5;28;01mreturn\u001b[39;00m \u001b[43mfn\u001b[49m\u001b[43m(\u001b[49m\u001b[38;5;241;43m*\u001b[39;49m\u001b[43margs\u001b[49m\u001b[43m,\u001b[49m\u001b[43m \u001b[49m\u001b[38;5;241;43m*\u001b[39;49m\u001b[38;5;241;43m*\u001b[39;49m\u001b[43mkwargs\u001b[49m\u001b[43m)\u001b[49m\n\u001b[0;32m    118\u001b[0m \u001b[38;5;28;01mexcept\u001b[39;00m \u001b[38;5;167;01mException\u001b[39;00m \u001b[38;5;28;01mas\u001b[39;00m e:\n\u001b[0;32m    119\u001b[0m     filtered_tb \u001b[38;5;241m=\u001b[39m _process_traceback_frames(e\u001b[38;5;241m.\u001b[39m__traceback__)\n",
      "File \u001b[1;32mc:\\Users\\Lenovo\\AppData\\Local\\Programs\\Python\\Python311\\Lib\\site-packages\\keras\\src\\backend\\tensorflow\\trainer.py:329\u001b[0m, in \u001b[0;36mTensorFlowTrainer.fit\u001b[1;34m(self, x, y, batch_size, epochs, verbose, callbacks, validation_split, validation_data, shuffle, class_weight, sample_weight, initial_epoch, steps_per_epoch, validation_steps, validation_batch_size, validation_freq)\u001b[0m\n\u001b[0;32m    327\u001b[0m \u001b[38;5;28;01mfor\u001b[39;00m step, iterator \u001b[38;5;129;01min\u001b[39;00m epoch_iterator\u001b[38;5;241m.\u001b[39menumerate_epoch():\n\u001b[0;32m    328\u001b[0m     callbacks\u001b[38;5;241m.\u001b[39mon_train_batch_begin(step)\n\u001b[1;32m--> 329\u001b[0m     logs \u001b[38;5;241m=\u001b[39m \u001b[38;5;28;43mself\u001b[39;49m\u001b[38;5;241;43m.\u001b[39;49m\u001b[43mtrain_function\u001b[49m\u001b[43m(\u001b[49m\u001b[43miterator\u001b[49m\u001b[43m)\u001b[49m\n\u001b[0;32m    330\u001b[0m     callbacks\u001b[38;5;241m.\u001b[39mon_train_batch_end(\n\u001b[0;32m    331\u001b[0m         step, \u001b[38;5;28mself\u001b[39m\u001b[38;5;241m.\u001b[39m_pythonify_logs(logs)\n\u001b[0;32m    332\u001b[0m     )\n\u001b[0;32m    333\u001b[0m     \u001b[38;5;28;01mif\u001b[39;00m \u001b[38;5;28mself\u001b[39m\u001b[38;5;241m.\u001b[39mstop_training:\n",
      "File \u001b[1;32mc:\\Users\\Lenovo\\AppData\\Local\\Programs\\Python\\Python311\\Lib\\site-packages\\tensorflow\\python\\util\\traceback_utils.py:150\u001b[0m, in \u001b[0;36mfilter_traceback.<locals>.error_handler\u001b[1;34m(*args, **kwargs)\u001b[0m\n\u001b[0;32m    148\u001b[0m filtered_tb \u001b[38;5;241m=\u001b[39m \u001b[38;5;28;01mNone\u001b[39;00m\n\u001b[0;32m    149\u001b[0m \u001b[38;5;28;01mtry\u001b[39;00m:\n\u001b[1;32m--> 150\u001b[0m   \u001b[38;5;28;01mreturn\u001b[39;00m \u001b[43mfn\u001b[49m\u001b[43m(\u001b[49m\u001b[38;5;241;43m*\u001b[39;49m\u001b[43margs\u001b[49m\u001b[43m,\u001b[49m\u001b[43m \u001b[49m\u001b[38;5;241;43m*\u001b[39;49m\u001b[38;5;241;43m*\u001b[39;49m\u001b[43mkwargs\u001b[49m\u001b[43m)\u001b[49m\n\u001b[0;32m    151\u001b[0m \u001b[38;5;28;01mexcept\u001b[39;00m \u001b[38;5;167;01mException\u001b[39;00m \u001b[38;5;28;01mas\u001b[39;00m e:\n\u001b[0;32m    152\u001b[0m   filtered_tb \u001b[38;5;241m=\u001b[39m _process_traceback_frames(e\u001b[38;5;241m.\u001b[39m__traceback__)\n",
      "File \u001b[1;32mc:\\Users\\Lenovo\\AppData\\Local\\Programs\\Python\\Python311\\Lib\\site-packages\\tensorflow\\python\\eager\\polymorphic_function\\polymorphic_function.py:833\u001b[0m, in \u001b[0;36mFunction.__call__\u001b[1;34m(self, *args, **kwds)\u001b[0m\n\u001b[0;32m    830\u001b[0m compiler \u001b[38;5;241m=\u001b[39m \u001b[38;5;124m\"\u001b[39m\u001b[38;5;124mxla\u001b[39m\u001b[38;5;124m\"\u001b[39m \u001b[38;5;28;01mif\u001b[39;00m \u001b[38;5;28mself\u001b[39m\u001b[38;5;241m.\u001b[39m_jit_compile \u001b[38;5;28;01melse\u001b[39;00m \u001b[38;5;124m\"\u001b[39m\u001b[38;5;124mnonXla\u001b[39m\u001b[38;5;124m\"\u001b[39m\n\u001b[0;32m    832\u001b[0m \u001b[38;5;28;01mwith\u001b[39;00m OptionalXlaContext(\u001b[38;5;28mself\u001b[39m\u001b[38;5;241m.\u001b[39m_jit_compile):\n\u001b[1;32m--> 833\u001b[0m   result \u001b[38;5;241m=\u001b[39m \u001b[38;5;28;43mself\u001b[39;49m\u001b[38;5;241;43m.\u001b[39;49m\u001b[43m_call\u001b[49m\u001b[43m(\u001b[49m\u001b[38;5;241;43m*\u001b[39;49m\u001b[43margs\u001b[49m\u001b[43m,\u001b[49m\u001b[43m \u001b[49m\u001b[38;5;241;43m*\u001b[39;49m\u001b[38;5;241;43m*\u001b[39;49m\u001b[43mkwds\u001b[49m\u001b[43m)\u001b[49m\n\u001b[0;32m    835\u001b[0m new_tracing_count \u001b[38;5;241m=\u001b[39m \u001b[38;5;28mself\u001b[39m\u001b[38;5;241m.\u001b[39mexperimental_get_tracing_count()\n\u001b[0;32m    836\u001b[0m without_tracing \u001b[38;5;241m=\u001b[39m (tracing_count \u001b[38;5;241m==\u001b[39m new_tracing_count)\n",
      "File \u001b[1;32mc:\\Users\\Lenovo\\AppData\\Local\\Programs\\Python\\Python311\\Lib\\site-packages\\tensorflow\\python\\eager\\polymorphic_function\\polymorphic_function.py:878\u001b[0m, in \u001b[0;36mFunction._call\u001b[1;34m(self, *args, **kwds)\u001b[0m\n\u001b[0;32m    875\u001b[0m \u001b[38;5;28mself\u001b[39m\u001b[38;5;241m.\u001b[39m_lock\u001b[38;5;241m.\u001b[39mrelease()\n\u001b[0;32m    876\u001b[0m \u001b[38;5;66;03m# In this case we have not created variables on the first call. So we can\u001b[39;00m\n\u001b[0;32m    877\u001b[0m \u001b[38;5;66;03m# run the first trace but we should fail if variables are created.\u001b[39;00m\n\u001b[1;32m--> 878\u001b[0m results \u001b[38;5;241m=\u001b[39m \u001b[43mtracing_compilation\u001b[49m\u001b[38;5;241;43m.\u001b[39;49m\u001b[43mcall_function\u001b[49m\u001b[43m(\u001b[49m\n\u001b[0;32m    879\u001b[0m \u001b[43m    \u001b[49m\u001b[43margs\u001b[49m\u001b[43m,\u001b[49m\u001b[43m \u001b[49m\u001b[43mkwds\u001b[49m\u001b[43m,\u001b[49m\u001b[43m \u001b[49m\u001b[38;5;28;43mself\u001b[39;49m\u001b[38;5;241;43m.\u001b[39;49m\u001b[43m_variable_creation_config\u001b[49m\n\u001b[0;32m    880\u001b[0m \u001b[43m\u001b[49m\u001b[43m)\u001b[49m\n\u001b[0;32m    881\u001b[0m \u001b[38;5;28;01mif\u001b[39;00m \u001b[38;5;28mself\u001b[39m\u001b[38;5;241m.\u001b[39m_created_variables:\n\u001b[0;32m    882\u001b[0m   \u001b[38;5;28;01mraise\u001b[39;00m \u001b[38;5;167;01mValueError\u001b[39;00m(\u001b[38;5;124m\"\u001b[39m\u001b[38;5;124mCreating variables on a non-first call to a function\u001b[39m\u001b[38;5;124m\"\u001b[39m\n\u001b[0;32m    883\u001b[0m                    \u001b[38;5;124m\"\u001b[39m\u001b[38;5;124m decorated with tf.function.\u001b[39m\u001b[38;5;124m\"\u001b[39m)\n",
      "File \u001b[1;32mc:\\Users\\Lenovo\\AppData\\Local\\Programs\\Python\\Python311\\Lib\\site-packages\\tensorflow\\python\\eager\\polymorphic_function\\tracing_compilation.py:139\u001b[0m, in \u001b[0;36mcall_function\u001b[1;34m(args, kwargs, tracing_options)\u001b[0m\n\u001b[0;32m    137\u001b[0m bound_args \u001b[38;5;241m=\u001b[39m function\u001b[38;5;241m.\u001b[39mfunction_type\u001b[38;5;241m.\u001b[39mbind(\u001b[38;5;241m*\u001b[39margs, \u001b[38;5;241m*\u001b[39m\u001b[38;5;241m*\u001b[39mkwargs)\n\u001b[0;32m    138\u001b[0m flat_inputs \u001b[38;5;241m=\u001b[39m function\u001b[38;5;241m.\u001b[39mfunction_type\u001b[38;5;241m.\u001b[39munpack_inputs(bound_args)\n\u001b[1;32m--> 139\u001b[0m \u001b[38;5;28;01mreturn\u001b[39;00m \u001b[43mfunction\u001b[49m\u001b[38;5;241;43m.\u001b[39;49m\u001b[43m_call_flat\u001b[49m\u001b[43m(\u001b[49m\u001b[43m  \u001b[49m\u001b[38;5;66;43;03m# pylint: disable=protected-access\u001b[39;49;00m\n\u001b[0;32m    140\u001b[0m \u001b[43m    \u001b[49m\u001b[43mflat_inputs\u001b[49m\u001b[43m,\u001b[49m\u001b[43m \u001b[49m\u001b[43mcaptured_inputs\u001b[49m\u001b[38;5;241;43m=\u001b[39;49m\u001b[43mfunction\u001b[49m\u001b[38;5;241;43m.\u001b[39;49m\u001b[43mcaptured_inputs\u001b[49m\n\u001b[0;32m    141\u001b[0m \u001b[43m\u001b[49m\u001b[43m)\u001b[49m\n",
      "File \u001b[1;32mc:\\Users\\Lenovo\\AppData\\Local\\Programs\\Python\\Python311\\Lib\\site-packages\\tensorflow\\python\\eager\\polymorphic_function\\concrete_function.py:1322\u001b[0m, in \u001b[0;36mConcreteFunction._call_flat\u001b[1;34m(self, tensor_inputs, captured_inputs)\u001b[0m\n\u001b[0;32m   1318\u001b[0m possible_gradient_type \u001b[38;5;241m=\u001b[39m gradients_util\u001b[38;5;241m.\u001b[39mPossibleTapeGradientTypes(args)\n\u001b[0;32m   1319\u001b[0m \u001b[38;5;28;01mif\u001b[39;00m (possible_gradient_type \u001b[38;5;241m==\u001b[39m gradients_util\u001b[38;5;241m.\u001b[39mPOSSIBLE_GRADIENT_TYPES_NONE\n\u001b[0;32m   1320\u001b[0m     \u001b[38;5;129;01mand\u001b[39;00m executing_eagerly):\n\u001b[0;32m   1321\u001b[0m   \u001b[38;5;66;03m# No tape is watching; skip to running the function.\u001b[39;00m\n\u001b[1;32m-> 1322\u001b[0m   \u001b[38;5;28;01mreturn\u001b[39;00m \u001b[38;5;28;43mself\u001b[39;49m\u001b[38;5;241;43m.\u001b[39;49m\u001b[43m_inference_function\u001b[49m\u001b[38;5;241;43m.\u001b[39;49m\u001b[43mcall_preflattened\u001b[49m\u001b[43m(\u001b[49m\u001b[43margs\u001b[49m\u001b[43m)\u001b[49m\n\u001b[0;32m   1323\u001b[0m forward_backward \u001b[38;5;241m=\u001b[39m \u001b[38;5;28mself\u001b[39m\u001b[38;5;241m.\u001b[39m_select_forward_and_backward_functions(\n\u001b[0;32m   1324\u001b[0m     args,\n\u001b[0;32m   1325\u001b[0m     possible_gradient_type,\n\u001b[0;32m   1326\u001b[0m     executing_eagerly)\n\u001b[0;32m   1327\u001b[0m forward_function, args_with_tangents \u001b[38;5;241m=\u001b[39m forward_backward\u001b[38;5;241m.\u001b[39mforward()\n",
      "File \u001b[1;32mc:\\Users\\Lenovo\\AppData\\Local\\Programs\\Python\\Python311\\Lib\\site-packages\\tensorflow\\python\\eager\\polymorphic_function\\atomic_function.py:216\u001b[0m, in \u001b[0;36mAtomicFunction.call_preflattened\u001b[1;34m(self, args)\u001b[0m\n\u001b[0;32m    214\u001b[0m \u001b[38;5;28;01mdef\u001b[39;00m \u001b[38;5;21mcall_preflattened\u001b[39m(\u001b[38;5;28mself\u001b[39m, args: Sequence[core\u001b[38;5;241m.\u001b[39mTensor]) \u001b[38;5;241m-\u001b[39m\u001b[38;5;241m>\u001b[39m Any:\n\u001b[0;32m    215\u001b[0m \u001b[38;5;250m  \u001b[39m\u001b[38;5;124;03m\"\"\"Calls with flattened tensor inputs and returns the structured output.\"\"\"\u001b[39;00m\n\u001b[1;32m--> 216\u001b[0m   flat_outputs \u001b[38;5;241m=\u001b[39m \u001b[38;5;28;43mself\u001b[39;49m\u001b[38;5;241;43m.\u001b[39;49m\u001b[43mcall_flat\u001b[49m\u001b[43m(\u001b[49m\u001b[38;5;241;43m*\u001b[39;49m\u001b[43margs\u001b[49m\u001b[43m)\u001b[49m\n\u001b[0;32m    217\u001b[0m   \u001b[38;5;28;01mreturn\u001b[39;00m \u001b[38;5;28mself\u001b[39m\u001b[38;5;241m.\u001b[39mfunction_type\u001b[38;5;241m.\u001b[39mpack_output(flat_outputs)\n",
      "File \u001b[1;32mc:\\Users\\Lenovo\\AppData\\Local\\Programs\\Python\\Python311\\Lib\\site-packages\\tensorflow\\python\\eager\\polymorphic_function\\atomic_function.py:251\u001b[0m, in \u001b[0;36mAtomicFunction.call_flat\u001b[1;34m(self, *args)\u001b[0m\n\u001b[0;32m    249\u001b[0m \u001b[38;5;28;01mwith\u001b[39;00m record\u001b[38;5;241m.\u001b[39mstop_recording():\n\u001b[0;32m    250\u001b[0m   \u001b[38;5;28;01mif\u001b[39;00m \u001b[38;5;28mself\u001b[39m\u001b[38;5;241m.\u001b[39m_bound_context\u001b[38;5;241m.\u001b[39mexecuting_eagerly():\n\u001b[1;32m--> 251\u001b[0m     outputs \u001b[38;5;241m=\u001b[39m \u001b[38;5;28;43mself\u001b[39;49m\u001b[38;5;241;43m.\u001b[39;49m\u001b[43m_bound_context\u001b[49m\u001b[38;5;241;43m.\u001b[39;49m\u001b[43mcall_function\u001b[49m\u001b[43m(\u001b[49m\n\u001b[0;32m    252\u001b[0m \u001b[43m        \u001b[49m\u001b[38;5;28;43mself\u001b[39;49m\u001b[38;5;241;43m.\u001b[39;49m\u001b[43mname\u001b[49m\u001b[43m,\u001b[49m\n\u001b[0;32m    253\u001b[0m \u001b[43m        \u001b[49m\u001b[38;5;28;43mlist\u001b[39;49m\u001b[43m(\u001b[49m\u001b[43margs\u001b[49m\u001b[43m)\u001b[49m\u001b[43m,\u001b[49m\n\u001b[0;32m    254\u001b[0m \u001b[43m        \u001b[49m\u001b[38;5;28;43mlen\u001b[39;49m\u001b[43m(\u001b[49m\u001b[38;5;28;43mself\u001b[39;49m\u001b[38;5;241;43m.\u001b[39;49m\u001b[43mfunction_type\u001b[49m\u001b[38;5;241;43m.\u001b[39;49m\u001b[43mflat_outputs\u001b[49m\u001b[43m)\u001b[49m\u001b[43m,\u001b[49m\n\u001b[0;32m    255\u001b[0m \u001b[43m    \u001b[49m\u001b[43m)\u001b[49m\n\u001b[0;32m    256\u001b[0m   \u001b[38;5;28;01melse\u001b[39;00m:\n\u001b[0;32m    257\u001b[0m     outputs \u001b[38;5;241m=\u001b[39m make_call_op_in_graph(\n\u001b[0;32m    258\u001b[0m         \u001b[38;5;28mself\u001b[39m,\n\u001b[0;32m    259\u001b[0m         \u001b[38;5;28mlist\u001b[39m(args),\n\u001b[0;32m    260\u001b[0m         \u001b[38;5;28mself\u001b[39m\u001b[38;5;241m.\u001b[39m_bound_context\u001b[38;5;241m.\u001b[39mfunction_call_options\u001b[38;5;241m.\u001b[39mas_attrs(),\n\u001b[0;32m    261\u001b[0m     )\n",
      "File \u001b[1;32mc:\\Users\\Lenovo\\AppData\\Local\\Programs\\Python\\Python311\\Lib\\site-packages\\tensorflow\\python\\eager\\context.py:1500\u001b[0m, in \u001b[0;36mContext.call_function\u001b[1;34m(self, name, tensor_inputs, num_outputs)\u001b[0m\n\u001b[0;32m   1498\u001b[0m cancellation_context \u001b[38;5;241m=\u001b[39m cancellation\u001b[38;5;241m.\u001b[39mcontext()\n\u001b[0;32m   1499\u001b[0m \u001b[38;5;28;01mif\u001b[39;00m cancellation_context \u001b[38;5;129;01mis\u001b[39;00m \u001b[38;5;28;01mNone\u001b[39;00m:\n\u001b[1;32m-> 1500\u001b[0m   outputs \u001b[38;5;241m=\u001b[39m \u001b[43mexecute\u001b[49m\u001b[38;5;241;43m.\u001b[39;49m\u001b[43mexecute\u001b[49m\u001b[43m(\u001b[49m\n\u001b[0;32m   1501\u001b[0m \u001b[43m      \u001b[49m\u001b[43mname\u001b[49m\u001b[38;5;241;43m.\u001b[39;49m\u001b[43mdecode\u001b[49m\u001b[43m(\u001b[49m\u001b[38;5;124;43m\"\u001b[39;49m\u001b[38;5;124;43mutf-8\u001b[39;49m\u001b[38;5;124;43m\"\u001b[39;49m\u001b[43m)\u001b[49m\u001b[43m,\u001b[49m\n\u001b[0;32m   1502\u001b[0m \u001b[43m      \u001b[49m\u001b[43mnum_outputs\u001b[49m\u001b[38;5;241;43m=\u001b[39;49m\u001b[43mnum_outputs\u001b[49m\u001b[43m,\u001b[49m\n\u001b[0;32m   1503\u001b[0m \u001b[43m      \u001b[49m\u001b[43minputs\u001b[49m\u001b[38;5;241;43m=\u001b[39;49m\u001b[43mtensor_inputs\u001b[49m\u001b[43m,\u001b[49m\n\u001b[0;32m   1504\u001b[0m \u001b[43m      \u001b[49m\u001b[43mattrs\u001b[49m\u001b[38;5;241;43m=\u001b[39;49m\u001b[43mattrs\u001b[49m\u001b[43m,\u001b[49m\n\u001b[0;32m   1505\u001b[0m \u001b[43m      \u001b[49m\u001b[43mctx\u001b[49m\u001b[38;5;241;43m=\u001b[39;49m\u001b[38;5;28;43mself\u001b[39;49m\u001b[43m,\u001b[49m\n\u001b[0;32m   1506\u001b[0m \u001b[43m  \u001b[49m\u001b[43m)\u001b[49m\n\u001b[0;32m   1507\u001b[0m \u001b[38;5;28;01melse\u001b[39;00m:\n\u001b[0;32m   1508\u001b[0m   outputs \u001b[38;5;241m=\u001b[39m execute\u001b[38;5;241m.\u001b[39mexecute_with_cancellation(\n\u001b[0;32m   1509\u001b[0m       name\u001b[38;5;241m.\u001b[39mdecode(\u001b[38;5;124m\"\u001b[39m\u001b[38;5;124mutf-8\u001b[39m\u001b[38;5;124m\"\u001b[39m),\n\u001b[0;32m   1510\u001b[0m       num_outputs\u001b[38;5;241m=\u001b[39mnum_outputs,\n\u001b[1;32m   (...)\u001b[0m\n\u001b[0;32m   1514\u001b[0m       cancellation_manager\u001b[38;5;241m=\u001b[39mcancellation_context,\n\u001b[0;32m   1515\u001b[0m   )\n",
      "File \u001b[1;32mc:\\Users\\Lenovo\\AppData\\Local\\Programs\\Python\\Python311\\Lib\\site-packages\\tensorflow\\python\\eager\\execute.py:53\u001b[0m, in \u001b[0;36mquick_execute\u001b[1;34m(op_name, num_outputs, inputs, attrs, ctx, name)\u001b[0m\n\u001b[0;32m     51\u001b[0m \u001b[38;5;28;01mtry\u001b[39;00m:\n\u001b[0;32m     52\u001b[0m   ctx\u001b[38;5;241m.\u001b[39mensure_initialized()\n\u001b[1;32m---> 53\u001b[0m   tensors \u001b[38;5;241m=\u001b[39m \u001b[43mpywrap_tfe\u001b[49m\u001b[38;5;241;43m.\u001b[39;49m\u001b[43mTFE_Py_Execute\u001b[49m\u001b[43m(\u001b[49m\u001b[43mctx\u001b[49m\u001b[38;5;241;43m.\u001b[39;49m\u001b[43m_handle\u001b[49m\u001b[43m,\u001b[49m\u001b[43m \u001b[49m\u001b[43mdevice_name\u001b[49m\u001b[43m,\u001b[49m\u001b[43m \u001b[49m\u001b[43mop_name\u001b[49m\u001b[43m,\u001b[49m\n\u001b[0;32m     54\u001b[0m \u001b[43m                                      \u001b[49m\u001b[43minputs\u001b[49m\u001b[43m,\u001b[49m\u001b[43m \u001b[49m\u001b[43mattrs\u001b[49m\u001b[43m,\u001b[49m\u001b[43m \u001b[49m\u001b[43mnum_outputs\u001b[49m\u001b[43m)\u001b[49m\n\u001b[0;32m     55\u001b[0m \u001b[38;5;28;01mexcept\u001b[39;00m core\u001b[38;5;241m.\u001b[39m_NotOkStatusException \u001b[38;5;28;01mas\u001b[39;00m e:\n\u001b[0;32m     56\u001b[0m   \u001b[38;5;28;01mif\u001b[39;00m name \u001b[38;5;129;01mis\u001b[39;00m \u001b[38;5;129;01mnot\u001b[39;00m \u001b[38;5;28;01mNone\u001b[39;00m:\n",
      "\u001b[1;31mKeyboardInterrupt\u001b[0m: "
     ]
    }
   ],
   "source": [
    "model = create_model()\n",
    "\n",
    "early_stopping = EarlyStopping(monitor='val_loss', patience=3)\n",
    "\n",
    "history = model.fit(train_generator,\n",
    "                    epochs=20,\n",
    "                    verbose=1,\n",
    "                    validation_data=test_generator, callbacks=[early_stopping])"
   ]
  },
  {
   "cell_type": "code",
   "execution_count": 80,
   "metadata": {},
   "outputs": [
    {
     "data": {
      "image/png": "[encoded data removed]",
      "text/plain": [
       "<Figure size 640x480 with 1 Axes>"
      ]
     },
     "metadata": {},
     "output_type": "display_data"
    },
    {
     "name": "stdout",
     "output_type": "stream",
     "text": [
      "\n"
     ]
    },
    {
     "data": {
      "image/png": "[encoded data removed]",
      "text/plain": [
       "<Figure size 640x480 with 1 Axes>"
      ]
     },
     "metadata": {},
     "output_type": "display_data"
    }
   ],
   "source": [
    "#-----------------------------------------------------------\n",
    "# Retrieve a list of list results on training and test data\n",
    "# sets for each training epoch\n",
    "#-----------------------------------------------------------\n",
    "acc=history.history['accuracy']\n",
    "val_acc=history.history['val_accuracy']\n",
    "loss=history.history['loss']\n",
    "val_loss=history.history['val_loss']\n",
    "\n",
    "epochs=range(len(acc)) # Get number of epochs\n",
    "\n",
    "#------------------------------------------------\n",
    "# Plot training and validation accuracy per epoch\n",
    "#------------------------------------------------\n",
    "plt.plot(epochs, acc, 'r', \"Training Accuracy\")\n",
    "plt.plot(epochs, val_acc, 'b', \"Validation Accuracy\")\n",
    "plt.title('Training and validation accuracy')\n",
    "plt.show()\n",
    "print(\"\")\n",
    "\n",
    "#------------------------------------------------\n",
    "# Plot training and validation loss per epoch\n",
    "#------------------------------------------------\n",
    "plt.plot(epochs, loss, 'r', \"Training Loss\")\n",
    "plt.plot(epochs, val_loss, 'b', \"Validation Loss\")\n",
    "plt.show()"
   ]
  }
 ],
 "metadata": {
  "kernelspec": {
   "display_name": "main-ds",
   "language": "python",
   "name": "python3"
  },
  "language_info": {
   "codemirror_mode": {
    "name": "ipython",
    "version": 3
   },
   "file_extension": ".py",
   "mimetype": "text/x-python",
   "name": "python",
   "nbconvert_exporter": "python",
   "pygments_lexer": "ipython3",
   "version": "3.11.2"
  }
 },
 "nbformat": 4,
 "nbformat_minor": 2
}
